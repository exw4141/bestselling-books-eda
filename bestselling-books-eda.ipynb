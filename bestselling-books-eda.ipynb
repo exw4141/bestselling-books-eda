{
 "cells": [
  {
   "cell_type": "markdown",
   "metadata": {},
   "source": [
    "[Kaggle Dataset](https://www.kaggle.com/sootersaalu/amazon-top-50-bestselling-books-2009-2019)"
   ]
  },
  {
   "cell_type": "markdown",
   "metadata": {},
   "source": [
    "# EDA of Amazon's Top 50 Bestselling Books 2009 - 2019"
   ]
  },
  {
   "cell_type": "code",
   "execution_count": null,
   "metadata": {},
   "outputs": [],
   "source": [
    "import pandas as pd\n",
    "import matplotlib.pyplot as plt\n",
    "import numpy as np"
   ]
  },
  {
   "cell_type": "code",
   "execution_count": null,
   "metadata": {},
   "outputs": [],
   "source": [
    "df = pd.read_csv('amazon-bestsellers.csv')\n",
    "df.head()"
   ]
  },
  {
   "cell_type": "markdown",
   "metadata": {},
   "source": [
    "This dataset contains 3 categorical columns (Name, Author, and Genre) and 4 numerical columns (User Rating, Reviews, Price, Year)."
   ]
  },
  {
   "cell_type": "markdown",
   "metadata": {},
   "source": [
    "## Check for missing data"
   ]
  },
  {
   "cell_type": "code",
   "execution_count": null,
   "metadata": {},
   "outputs": [],
   "source": [
    "df.shape # Seems like there are no books omitted"
   ]
  },
  {
   "cell_type": "code",
   "execution_count": null,
   "metadata": {},
   "outputs": [],
   "source": [
    "df.info()"
   ]
  },
  {
   "cell_type": "markdown",
   "metadata": {},
   "source": [
    "Looking at the non-null counts for all columns, it's clear that there are no missing values in the dataset.\n",
    "\n",
    "The \"Genre\" column seems to only contain 2 values. It would make sense to convert it from an \"object\" dtype to a \"category\" dtype."
   ]
  },
  {
   "cell_type": "code",
   "execution_count": null,
   "metadata": {},
   "outputs": [],
   "source": [
    "df['Genre'] = df['Genre'].astype('category')"
   ]
  },
  {
   "cell_type": "markdown",
   "metadata": {},
   "source": [
    "## Cleaning Data"
   ]
  },
  {
   "cell_type": "markdown",
   "metadata": {},
   "source": [
    "### Name"
   ]
  },
  {
   "cell_type": "code",
   "execution_count": null,
   "metadata": {},
   "outputs": [],
   "source": [
    "categorical_columns = df.select_dtypes(exclude=[np.number]).columns"
   ]
  },
  {
   "cell_type": "code",
   "execution_count": null,
   "metadata": {},
   "outputs": [],
   "source": [
    "for col in categorical_columns:\n",
    "    print(f'Number of values before title() in {col}: {len(set(df[col]))}', f'Number of values after title() in {col}: {len(set(df[col].str.title()))}')"
   ]
  },
  {
   "cell_type": "markdown",
   "metadata": {},
   "source": [
    "The \"Name\" column seems to contain 1 value that has a capitalization difference. The following cell fixes it."
   ]
  },
  {
   "cell_type": "code",
   "execution_count": null,
   "metadata": {},
   "outputs": [],
   "source": [
    "df['Name'] = df['Name'].str.title()"
   ]
  },
  {
   "cell_type": "code",
   "execution_count": null,
   "metadata": {},
   "outputs": [],
   "source": [
    "for col in categorical_columns:\n",
    "    print(f'Number of values before title() in {col}: {len(set(df[col]))}', f'Number of values after title() in {col}: {len(set(df[col].str.title()))}')"
   ]
  },
  {
   "cell_type": "markdown",
   "metadata": {},
   "source": [
    "Some titles may appear weirdly since ```title()``` causes letters after punctuation to be capitalized but for the purpose of data analysis, this should be acceptable"
   ]
  },
  {
   "cell_type": "code",
   "execution_count": null,
   "metadata": {},
   "outputs": [],
   "source": [
    "for col in categorical_columns:\n",
    "    print(f'Number of values before strip() in {col}: {len(set(df[col]))}', f'Number of values after strip() in {col}: {len(set(df[col].str.strip()))}')"
   ]
  },
  {
   "cell_type": "markdown",
   "metadata": {},
   "source": [
    "There seem to be no titles containing excessive whitespace."
   ]
  },
  {
   "cell_type": "markdown",
   "metadata": {},
   "source": [
    "### Author"
   ]
  },
  {
   "cell_type": "code",
   "execution_count": null,
   "metadata": {},
   "outputs": [],
   "source": [
    "len(df['Author'].unique())"
   ]
  },
  {
   "cell_type": "code",
   "execution_count": null,
   "metadata": {},
   "outputs": [],
   "source": [
    "df['Author'].sort_values().unique()"
   ]
  },
  {
   "cell_type": "markdown",
   "metadata": {},
   "source": [
    "There are 2 authors in this dataset that appear multiple times under different spellings: George R. R. Martin and J. K. Rowling. Let's change the applicable rows so that they display the same spelling for the respective authors."
   ]
  },
  {
   "cell_type": "code",
   "execution_count": null,
   "metadata": {},
   "outputs": [],
   "source": [
    "df = df.replace('George R.R. Martin', 'George R. R. Martin')\n",
    "df = df.replace('J.K. Rowling', 'J. K. Rowling')\n",
    "len(df['Author'].unique())"
   ]
  },
  {
   "cell_type": "markdown",
   "metadata": {},
   "source": [
    "### Year"
   ]
  },
  {
   "cell_type": "code",
   "execution_count": null,
   "metadata": {},
   "outputs": [],
   "source": [
    "df['Year'].value_counts()"
   ]
  },
  {
   "cell_type": "markdown",
   "metadata": {},
   "source": [
    "The \"Year\" column does not require any changes."
   ]
  },
  {
   "cell_type": "markdown",
   "metadata": {},
   "source": [
    "### Genre"
   ]
  },
  {
   "cell_type": "code",
   "execution_count": null,
   "metadata": {},
   "outputs": [],
   "source": [
    "df['Genre'].unique()"
   ]
  },
  {
   "cell_type": "markdown",
   "metadata": {},
   "source": [
    "The \"Genre\" column does not require any more changes after changing its dtype."
   ]
  },
  {
   "cell_type": "markdown",
   "metadata": {},
   "source": [
    "## Initial Insights\n",
    "\n",
    "This section will look into a few questions that we may be curious about:\n",
    "1. Which books have appeared most often on Amazon's yearly bestseller list?\n",
    "2. Which authors have had the most works appear on Amazon's yearly bestseller list?\n",
    "3. What books have had the highest and lowest user rating?\n",
    "4. Which genre of books have higher user ratings: fiction or non-fiction?"
   ]
  },
  {
   "cell_type": "markdown",
   "metadata": {},
   "source": [
    "### Which books have appeared most often on Amazon's yearly bestseller list?"
   ]
  },
  {
   "cell_type": "code",
   "execution_count": null,
   "metadata": {},
   "outputs": [],
   "source": [
    "plt.figure(figsize=(5,2), dpi=180)\n",
    "\n",
    "df['Name'].value_counts().head(10).plot(kind='barh')\n",
    "\n",
    "plt.title('Top 10 Books With The Most Occurrences')\n",
    "plt.xlabel('# of Occurrences')\n",
    "plt.ylabel('Book Title')\n",
    "plt.yticks(fontsize=6)\n",
    "\n",
    "plt.show()"
   ]
  },
  {
   "cell_type": "markdown",
   "metadata": {},
   "source": [
    "There were 2 titles that were on Amazon's bestseller list almost every year from 2009-2019. These were *The 5 Love Languages: The Secret To Love That Lasts* and *Publication Manual Of The American Psychological Association, 6th Edition*. Only 8 titles had more than 5 occurrences on the bestseller list.\n",
    "\n",
    "However, *The 5 Love Languages: The Secret To Love That Lasts* seems to have been renamed between 2009 and 2010 so technically, the book itself has been on the bestselling list every year."
   ]
  },
  {
   "cell_type": "code",
   "execution_count": null,
   "metadata": {},
   "outputs": [],
   "source": [
    "df[df['Name'].str.contains('Love Languages')].sort_values('Year')"
   ]
  },
  {
   "cell_type": "markdown",
   "metadata": {},
   "source": [
    "### Which authors have had the most works appear on Amazon's yearly bestseller list?"
   ]
  },
  {
   "cell_type": "code",
   "execution_count": null,
   "metadata": {},
   "outputs": [],
   "source": [
    "plt.figure(figsize=(5,2), dpi=180)\n",
    "\n",
    "df['Author'].value_counts().head(10).plot(kind='barh')\n",
    "\n",
    "plt.title('Top 10 Authors With The Most Occurrences')\n",
    "plt.xlabel('# of Occurrences')\n",
    "plt.ylabel('Author')\n",
    "plt.yticks(fontsize=6)\n",
    "\n",
    "plt.show()"
   ]
  },
  {
   "cell_type": "markdown",
   "metadata": {},
   "source": [
    "Jeff Kinney has the most titles that have appeared on the bestseller list. With more than 11 occurrences, he must have had multiple titles on the bestseller list for at least 1 year between 2009 and 2019."
   ]
  },
  {
   "cell_type": "markdown",
   "metadata": {},
   "source": [
    "## Summary statistics of numerical data"
   ]
  },
  {
   "cell_type": "code",
   "execution_count": null,
   "metadata": {},
   "outputs": [],
   "source": [
    "df.describe()"
   ]
  },
  {
   "cell_type": "markdown",
   "metadata": {},
   "source": [
    "There is nothing strange about these statistics. It's reasonable that the number of reviews would vary so much since it's highly dependent on popularity.\n",
    "\n",
    "The following plots are box-and-whisker plots to provide a visualization of these summary statistics."
   ]
  },
  {
   "cell_type": "markdown",
   "metadata": {},
   "source": [
    "### User Rating"
   ]
  },
  {
   "cell_type": "code",
   "execution_count": null,
   "metadata": {},
   "outputs": [],
   "source": [
    "plt.figure(figsize=(5,2), dpi=180)\n",
    "\n",
    "plt.boxplot(df['User Rating'], vert=False)\n",
    "\n",
    "plt.title('Boxplot of User Rating')\n",
    "plt.yticks([1], labels=['User Rating'])\n",
    "\n",
    "plt.show()"
   ]
  },
  {
   "cell_type": "markdown",
   "metadata": {},
   "source": [
    "### Reviews"
   ]
  },
  {
   "cell_type": "code",
   "execution_count": null,
   "metadata": {},
   "outputs": [],
   "source": [
    "plt.figure(figsize=(5,2), dpi=180)\n",
    "\n",
    "plt.boxplot(df['Reviews'], vert=False)\n",
    "plt.title('Boxplot of # of Reviews')\n",
    "plt.yticks([1], labels=['# of Reviews'])\n",
    "\n",
    "plt.show()"
   ]
  },
  {
   "cell_type": "markdown",
   "metadata": {},
   "source": [
    "### Price"
   ]
  },
  {
   "cell_type": "code",
   "execution_count": null,
   "metadata": {},
   "outputs": [],
   "source": [
    "plt.figure(figsize=(5,2), dpi=180)\n",
    "\n",
    "plt.boxplot(df['Price'], vert=False)\n",
    "plt.title('Boxplot of Price')\n",
    "plt.yticks([1], labels=['Price'])\n",
    "\n",
    "plt.show()"
   ]
  },
  {
   "cell_type": "markdown",
   "metadata": {},
   "source": [
    "## Examining User Ratings"
   ]
  },
  {
   "cell_type": "code",
   "execution_count": null,
   "metadata": {},
   "outputs": [],
   "source": [
    "user_rating_counts = df['User Rating'].value_counts().sort_index()\n",
    "user_rating_counts"
   ]
  },
  {
   "cell_type": "markdown",
   "metadata": {},
   "source": [
    "The majority of average user ratings for Amazon's bestselling books seem to within the range of 4.6-4.8 stars. The following is a visualization for these numbers:"
   ]
  },
  {
   "cell_type": "code",
   "execution_count": null,
   "metadata": {},
   "outputs": [],
   "source": [
    "plt.figure(figsize=(4,3), dpi=180)\n",
    "\n",
    "user_rating_counts.plot.bar()\n",
    "\n",
    "plt.title('User Rating Frequencies')\n",
    "\n",
    "plt.xlabel('User Rating')\n",
    "plt.ylabel('Frequency')\n",
    "\n",
    "plt.show()"
   ]
  },
  {
   "cell_type": "markdown",
   "metadata": {},
   "source": [
    "## Correlations"
   ]
  },
  {
   "cell_type": "code",
   "execution_count": null,
   "metadata": {},
   "outputs": [],
   "source": [
    "df.corr()"
   ]
  },
  {
   "cell_type": "code",
   "execution_count": null,
   "metadata": {},
   "outputs": [],
   "source": [
    "numerical_df = df.select_dtypes(include=[np.number])\n",
    "\n",
    "plt.figure(figsize=(3,3), dpi=180)\n",
    "\n",
    "heatmap = plt.imshow(numerical_df.corr(), cmap=plt.get_cmap('plasma'))\n",
    "\n",
    "plt.title('Correlations Between Numeric Data')\n",
    "\n",
    "plt.xticks(ticks=np.arange(len(numerical_df.columns)), labels=numerical_df.columns, rotation=25, ha='right', rotation_mode='anchor')\n",
    "plt.yticks(ticks=np.arange(len(numerical_df.columns)), labels=numerical_df.columns)\n",
    "\n",
    "for i in range(len(numerical_df.columns)):\n",
    "    for j in range(len(numerical_df.columns)):\n",
    "        plt.text(i, j, '%.3f' % numerical_df.corr().iloc[i, j], size=8, color='white', va='center', ha='center')\n",
    "\n",
    "plt.colorbar(heatmap, shrink=0.80)\n",
    "        \n",
    "plt.show()"
   ]
  },
  {
   "cell_type": "markdown",
   "metadata": {},
   "source": [
    "From a quick glance, there does not seem to be any strong correlations between any of the numeric data. Let's take a closer look with some scatter plots:"
   ]
  },
  {
   "cell_type": "code",
   "execution_count": null,
   "metadata": {},
   "outputs": [],
   "source": []
  }
 ],
 "metadata": {
  "kernelspec": {
   "display_name": "Python 3",
   "language": "python",
   "name": "python3"
  },
  "language_info": {
   "codemirror_mode": {
    "name": "ipython",
    "version": 3
   },
   "file_extension": ".py",
   "mimetype": "text/x-python",
   "name": "python",
   "nbconvert_exporter": "python",
   "pygments_lexer": "ipython3",
   "version": "3.8.5"
  }
 },
 "nbformat": 4,
 "nbformat_minor": 4
}
